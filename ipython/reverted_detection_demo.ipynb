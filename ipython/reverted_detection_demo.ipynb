{
 "cells": [
  {
   "cell_type": "markdown",
   "metadata": {},
   "source": [
    "# Basic damage detection in Wikipedia\n",
    "This notebook demonstrates the basic contruction of a vandalism classification system using the [revscoring](http://pythonhosted.org/revscoring/) library that we have developed specifically for classification models of MediaWiki stuff.\n",
    "\n",
    "The basic process that we'll follow is this:\n",
    "\n",
    "1. Gather example of human judgement applied to Wikipedia edits.  In this case, we'll take advantage of [reverts](https://meta.wikimedia.org/wiki/Research:Revert).  \n",
    "2. Split the data into a training and testing set\n",
    "3. Training the machine learning model\n",
    "4. Testing the machine learning model\n",
    "\n",
    "And then we'll have some fun applying the model to some edits using RCStream.  The following diagram gives a good sense for the whole process of training and evaluating a model.\n",
    "\n",
    "<center><img src=\"https://upload.wikimedia.org/wikipedia/commons/thumb/0/09/Supervised_machine_learning_in_a_nutshell.svg/640px-Supervised_machine_learning_in_a_nutshell.svg.png\" /></center>"
   ]
  },
  {
   "cell_type": "markdown",
   "metadata": {},
   "source": [
    "## Part 1: Getting labeled observations\n",
    "<img style=\"float: right; margin: 1ex;\" src=\"https://upload.wikimedia.org/wikipedia/commons/thumb/0/0f/Machine_learning_nutshell_--_Gather_labeled_observations.svg/300px-Machine_learning_nutshell_--_Gather_labeled_observations.svg.png\" />\n",
    "\n",
    "Regretfully, running SQL queries isn't something we can do directly from the notebook *yet*.  So, we'll use [Quarry](https://quarry.wmflabs.org) to generate a nice random sample of edits.  20,000 observations should do just fine.  Here's the query I want to run:\n",
    "\n",
    "```SQL\n",
    "USE enwiki_p;\n",
    "SELECT rev_id \n",
    "FROM revision \n",
    "WHERE rev_timestamp BETWEEN \"20150201\" AND \"20160201\" \n",
    "ORDER BY RAND() \n",
    "LIMIT 20000;\n",
    "```\n",
    "\n",
    "See http://quarry.wmflabs.org/query/7530.  By clicking around the UI, I can see that this URL will download my tab-separated file: http://quarry.wmflabs.org/run/65415/output/0/tsv?download=true"
   ]
  },
  {
   "cell_type": "code",
   "execution_count": 2,
   "metadata": {
    "collapsed": false
   },
   "outputs": [
    {
     "data": {
      "text/plain": [
       "20000"
      ]
     },
     "execution_count": 2,
     "metadata": {},
     "output_type": "execute_result"
    }
   ],
   "source": [
    "# Magical ipython notebook stuff puts the result of this command into a variable\n",
    "revids_f = !wget http://quarry.wmflabs.org/run/65415/output/0/tsv?download=true -qO- \n",
    "\n",
    "revids = [int(line) for line in revids_f[1:]]\n",
    "len(revids)"
   ]
  },
  {
   "cell_type": "markdown",
   "metadata": {},
   "source": [
    "OK.  Now that we have a set of revisions, we need to label them.  In this case, we're going to label them as reverted/not.  We want to exclude a few different types of reverts -- e.g. when a user reverts themself or when an edit is reverted back to by someone else.  For this, we'll use the [mwreverts](https://pythonhosted.org/mwreverts) and [mwapi](https://pythonhosted.org/mwapi) libraries.  "
   ]
  },
  {
   "cell_type": "code",
   "execution_count": 3,
   "metadata": {
    "collapsed": false
   },
   "outputs": [
    {
     "name": "stderr",
     "output_type": "stream",
     "text": [
      "...............r...."
     ]
    }
   ],
   "source": [
    "import sys, traceback\n",
    "import mwreverts.api\n",
    "import mwapi\n",
    "\n",
    "# We'll use the mwreverts API check.  In order to do that, we need an API session\n",
    "session = mwapi.Session(\"https://en.wikipedia.org\", \n",
    "                        user_agent=\"Revert detection demo <ahalfaker@wikimedia.org>\")\n",
    "\n",
    "# For each revision, find out if it was \"reverted\" and label it so.\n",
    "rev_reverteds = []\n",
    "for rev_id in revids[:20]:  # TODO: Limiting to the first 20!!!!\n",
    "    try:\n",
    "        _, reverted, reverted_to = mwreverts.api.check(\n",
    "            session, rev_id, radius=5,  # most reverts within 5 edits\n",
    "            window=48*60*60,  # 2 days\n",
    "            rvprop={'user', 'ids'})  # Some properties we'll make use of\n",
    "    except RuntimeError as e:\n",
    "        sys.stderr.write(str(e))\n",
    "        continue\n",
    "    \n",
    "    if reverted is not None:\n",
    "        reverted_doc = [r for r in reverted.reverteds\n",
    "                        if r['revid'] == rev_id][0]\n",
    "\n",
    "        # self-reverts\n",
    "        self_revert = \\\n",
    "            reverted_doc['user'] == reverted.reverting['user']\n",
    "        \n",
    "        # revisions that are reverted back to by others\n",
    "        reverted_back_to = \\\n",
    "            reverted_to is not None and \\\n",
    "            reverted_doc['user'] != \\\n",
    "            reverted_to.reverting['user']\n",
    "        \n",
    "        # If we are reverted, not by self or reverted back to by someone else, \n",
    "        # then, let's assume it was damaging.\n",
    "        damaging_reverted = !(self_revert or reverted_back_to)\n",
    "    else:\n",
    "        damaging_reverted = False\n",
    "\n",
    "    rev_reverteds.append((rev_id, damaging_reverted))\n",
    "    sys.stderr.write(\"r\" if damaging_reverted else \".\")\n"
   ]
  },
  {
   "cell_type": "markdown",
   "metadata": {},
   "source": [
    "Eeek!  This takes too long.  You get the idea.  So, I uploaded dataset that has already been labeled here @ `../datasets/demo/enwiki.rev_reverted.20k_2015.tsv.bz2`"
   ]
  },
  {
   "cell_type": "code",
   "execution_count": 4,
   "metadata": {
    "collapsed": false,
    "scrolled": true
   },
   "outputs": [
    {
     "data": {
      "text/plain": [
       "19868"
      ]
     },
     "execution_count": 4,
     "metadata": {},
     "output_type": "execute_result"
    }
   ],
   "source": [
    "rev_reverteds_f = !bzcat ../datasets/demo/enwiki.rev_reverted.20k_2015.tsv.bz2\n",
    "rev_reverteds = [line.strip().split(\"\\t\") for line in rev_reverteds_f[1:]]\n",
    "rev_reverteds = [(int(rev_id), reverted == \"True\") for rev_id, reverted in rev_reverteds]\n",
    "len(rev_reverteds)"
   ]
  },
  {
   "cell_type": "markdown",
   "metadata": {},
   "source": [
    "OK.  It looks like we got an error when trying to extract the reverted status of ~132 edits, which is an acceptable loss.  Now just to make sure we haven't gone crazy, let's check some of the reverted edits:\n",
    "\n",
    "* https://en.wikipedia.org/wiki/?diff=695071713 (section blanking)\n",
    "* https://en.wikipedia.org/wiki/?diff=667375206 (unexplained addition of nonsense)\n",
    "* https://en.wikipedia.org/wiki/?diff=670204366 (vandalism \"I don't know\")\n",
    "* https://en.wikipedia.org/wiki/?diff=680329354 (adds non-existent category)\n",
    "* https://en.wikipedia.org/wiki/?diff=668682186 (test edit -- removes punctuation)\n",
    "* https://en.wikipedia.org/wiki/?diff=666882037 (adds spamlink)\n",
    "* https://en.wikipedia.org/wiki/?diff=663302354 (adds nonsense special char)\n",
    "* https://en.wikipedia.org/wiki/?diff=675803278 (unconstructive link changes)\n",
    "* https://en.wikipedia.org/wiki/?diff=680203994 (vandalism -- \"Pepe meme\")\n",
    "* https://en.wikipedia.org/wiki/?diff=656734057 (\"JELENAS BOOTY UNDSO\")\n",
    "\n",
    "OK.  Looks like we are doing pretty good. :) "
   ]
  },
  {
   "cell_type": "markdown",
   "metadata": {},
   "source": [
    "## Part 2: Split the data into a training and testing set\n",
    "<img style=\"float: right; margin: 1ex;\" src=\"https://upload.wikimedia.org/wikipedia/commons/thumb/8/88/Machine_learning_nutshell_--_Split_into_train-test_set.svg/320px-Machine_learning_nutshell_--_Split_into_train-test_set.svg.png\" />\n",
    "Before we move on with training, it's important that we hold back some of the data for testing later.  If we train on the same data we'll test with, we risk [overfitting](https://en.wikipedia.org/wiki/Overfitting) and not noticing!\n",
    "\n",
    "In this section, we'll both split the training and testing set *and* gather prective features for each of the labeled observations."
   ]
  },
  {
   "cell_type": "code",
   "execution_count": 9,
   "metadata": {
    "collapsed": false
   },
   "outputs": [
    {
     "name": "stdout",
     "output_type": "stream",
     "text": [
      "training: 15000\n",
      "testing: 4868\n"
     ]
    }
   ],
   "source": [
    "train_set = rev_reverteds[:15000]\n",
    "test_set = rev_reverteds[15000:]\n",
    "print(\"training:\", len(train_set))\n",
    "print(\"testing:\", len(test_set))"
   ]
  },
  {
   "cell_type": "markdown",
   "metadata": {},
   "source": [
    "OK.  In order to train the machine learning model, we'll need to give it a source of signal.  This is where \"features\" come into play.  A feature represents a simple numerical statistic that we can extract from our observations that we think will be *predictive* of our outcome.  Luckily, `revscoring` provides a whole suite of features that work well for damage detection.  In this case, we'll be looking at features of the edit diff.  "
   ]
  },
  {
   "cell_type": "code",
   "execution_count": 11,
   "metadata": {
    "collapsed": false
   },
   "outputs": [],
   "source": [
    "from revscoring.features import wikitext, revision_oriented, temporal\n",
    "from revscoring.languages import english\n",
    "\n",
    "features = [\n",
    "    # Catches long key mashes like kkkkkkkkkkkk\n",
    "    wikitext.revision.diff.longest_repeated_char_added,\n",
    "    # Measures the size of the change in added words\n",
    "    wikitext.revision.diff.words_added,\n",
    "    # Measures the size of the change in removed words\n",
    "    wikitext.revision.diff.words_removed,\n",
    "    # Measures the proportional change in \"badwords\"\n",
    "    english.badwords.revision.diff.match_prop_delta_sum,\n",
    "    # Measures the proportional change in \"informals\"\n",
    "    english.informals.revision.diff.match_prop_delta_sum,\n",
    "    # Measures the proportional change meaningful words\n",
    "    english.stopwords.revision.diff.non_stopword_prop_delta_sum,\n",
    "    # Is the user anonymous\n",
    "    revision_oriented.revision.user.is_anon,\n",
    "    # Is the user a bot or a sysop\n",
    "    revision_oriented.revision.user.in_group({'bot', 'sysop'}),\n",
    "    # How long ago did the user register?\n",
    "    temporal.revision.user.seconds_since_registration\n",
    "]"
   ]
  },
  {
   "cell_type": "markdown",
   "metadata": {},
   "source": [
    "Now, we'll need to turn to `revscoring`s feature extractor to help us get us feature values for each revision."
   ]
  },
  {
   "cell_type": "code",
   "execution_count": 13,
   "metadata": {
    "collapsed": false
   },
   "outputs": [
    {
     "name": "stdout",
     "output_type": "stream",
     "text": [
      "rev_id: 695071713\n",
      "\tfeatures: [1, 0, 10974, -1.0, -2.547619047619048, -1477.9699604325458, True, False, 313948852]\n",
      "rev_id: 667375206\n",
      "\tfeatures: [1, 1, 1, 0.0, 0.0, 0.33333333333333337, False, False, 9844289]\n"
     ]
    }
   ],
   "source": [
    "from revscoring.extractors import api\n",
    "api_extractor = api.Extractor(session)\n",
    "\n",
    "print(\"rev_id:\", 695071713)\n",
    "print(\"\\tfeatures:\", list(api_extractor.extract(695071713, features)))\n",
    "print(\"rev_id:\", 667375206)\n",
    "print(\"\\tfeatures:\", list(api_extractor.extract(667375206, features)))"
   ]
  },
  {
   "cell_type": "code",
   "execution_count": 14,
   "metadata": {
    "collapsed": false
   },
   "outputs": [
    {
     "name": "stderr",
     "output_type": "stream",
     "text": [
      "...................."
     ]
    }
   ],
   "source": [
    "# Now for the whole set!\n",
    "training_features_reverted = []\n",
    "for rev_id, reverted in train_set[:20]:\n",
    "    try:\n",
    "        feature_values = list(api_extractor.extract(rev_id, features))\n",
    "    except RuntimeError as e:\n",
    "        sys.stderr.write(str(e))\n",
    "        continue\n",
    "    \n",
    "    sys.stderr.write(\".\")\n",
    "    training_features_reverted.append((rev_id, feature_values, reverted))\n",
    "    "
   ]
  },
  {
   "cell_type": "markdown",
   "metadata": {},
   "source": [
    "Eeek!  Again this takes too long, so again, I uploaded a dataset with features already extracted @ `../datasets/demo/enwiki.features_reverted.training.20k_2015.tsv.bz2`"
   ]
  },
  {
   "cell_type": "code",
   "execution_count": 15,
   "metadata": {
    "collapsed": false
   },
   "outputs": [
    {
     "data": {
      "text/plain": [
       "14979"
      ]
     },
     "execution_count": 15,
     "metadata": {},
     "output_type": "execute_result"
    }
   ],
   "source": [
    "from revscoring.utilities.util import read_observations\n",
    "training_features_reverted_f = !bzcat ../datasets/demo/enwiki.features_reverted.training.20k_2015.tsv.bz2 | cut -f2-\n",
    "training_features_reverted = list(read_observations(training_features_reverted_f, features, lambda v: v==\"True\"))\n",
    "len(training_features_reverted)"
   ]
  },
  {
   "cell_type": "markdown",
   "metadata": {},
   "source": [
    "## Part 3: Training the model\n",
    "<img style=\"float: right; margin: 1ex;\" src=\"https://upload.wikimedia.org/wikipedia/commons/thumb/7/7a/Machine_learning_nutshell_--_Train_a_machine_learning_model.svg/320px-Machine_learning_nutshell_--_Train_a_machine_learning_model.svg.png\" />\n",
    "\n",
    "Now that we have a set of features extracted for our training set, it's time to train a model.  `revscoring` provides a set of different classifier algorithms.  From past experience, I know a [gradient boosting](https://en.wikipedia.org/wiki/Gradient_boosting) classifier works well, so we'll use that.  "
   ]
  },
  {
   "cell_type": "code",
   "execution_count": 16,
   "metadata": {
    "collapsed": false
   },
   "outputs": [
    {
     "data": {
      "text/plain": [
       "{'seconds_elapsed': 15.805180072784424}"
      ]
     },
     "execution_count": 16,
     "metadata": {},
     "output_type": "execute_result"
    }
   ],
   "source": [
    "from revscoring.scorer_models import GradientBoosting\n",
    "is_reverted = GradientBoosting(features, version=\"live demo!\", \n",
    "                               learning_rate=0.01, max_features=\"log2\", \n",
    "                               n_estimators=700, max_depth=5,\n",
    "                               balanced_sample_weight=True, scale=True, center=True)\n",
    "\n",
    "is_reverted.train(training_features_reverted)"
   ]
  },
  {
   "cell_type": "markdown",
   "metadata": {},
   "source": [
    "We now have a trained model that we can play around with.  Let's try a few edits from our test set."
   ]
  },
  {
   "cell_type": "code",
   "execution_count": 17,
   "metadata": {
    "collapsed": false
   },
   "outputs": [
    {
     "name": "stdout",
     "output_type": "stream",
     "text": [
      "True https://en.wikipedia.org/wiki/?diff=699665317 True 0.83\n",
      "True https://en.wikipedia.org/wiki/?diff=683832871 True 0.81\n",
      "True https://en.wikipedia.org/wiki/?diff=653913156 True 0.7\n",
      "True https://en.wikipedia.org/wiki/?diff=654545786 True 0.82\n",
      "True https://en.wikipedia.org/wiki/?diff=670608733 True 0.78\n",
      "True https://en.wikipedia.org/wiki/?diff=689399141 True 0.71\n",
      "True https://en.wikipedia.org/wiki/?diff=662365029 True 0.9\n",
      "True https://en.wikipedia.org/wiki/?diff=656782076 True 0.87\n",
      "True https://en.wikipedia.org/wiki/?diff=698954388 True 0.85\n",
      "True https://en.wikipedia.org/wiki/?diff=645603577 True 0.67\n",
      "False https://en.wikipedia.org/wiki/?diff=687073859 False 0.38\n",
      "False https://en.wikipedia.org/wiki/?diff=665341163 False 0.15\n",
      "False https://en.wikipedia.org/wiki/?diff=654524549 False 0.06\n",
      "False https://en.wikipedia.org/wiki/?diff=682425664 False 0.07\n",
      "False https://en.wikipedia.org/wiki/?diff=674780271 False 0.26\n",
      "False https://en.wikipedia.org/wiki/?diff=684793059 False 0.08\n",
      "False https://en.wikipedia.org/wiki/?diff=655583788 True 0.7\n",
      "False https://en.wikipedia.org/wiki/?diff=700003789 False 0.23\n",
      "False https://en.wikipedia.org/wiki/?diff=659306547 False 0.08\n",
      "False https://en.wikipedia.org/wiki/?diff=662149200 False 0.16\n"
     ]
    }
   ],
   "source": [
    "reverted_obs = [rev_id for rev_id, reverted in test_set if reverted]\n",
    "non_reverted_obs = [rev_id for rev_id, reverted in test_set if not reverted]\n",
    "\n",
    "for rev_id in reverted_obs[:10]:\n",
    "    feature_values = list(api_extractor.extract(rev_id, features))\n",
    "    score = is_reverted.score(feature_values)\n",
    "    print(True, \"https://en.wikipedia.org/wiki/?diff=\" + str(rev_id), \n",
    "          score['prediction'], round(score['probability'][True], 2))\n",
    "\n",
    "for rev_id in non_reverted_obs[:10]:\n",
    "    feature_values = list(api_extractor.extract(rev_id, features))\n",
    "    score = is_reverted.score(feature_values)\n",
    "    print(False, \"https://en.wikipedia.org/wiki/?diff=\" + str(rev_id), \n",
    "          score['prediction'], round(score['probability'][True], 2))"
   ]
  },
  {
   "cell_type": "markdown",
   "metadata": {},
   "source": [
    "## Part 4: Testing the model\n",
    "So, the above analysis can help give us a sense for whether the model is working or not, but it's hard to standardize between models.  So, we can apply some metrics that are specially crafted for machine learning models.  \n",
    "\n",
    "<center>\n",
    "<img src=\"https://upload.wikimedia.org/wikipedia/commons/thumb/4/49/Machine_learning_nutshell_--_Test_the_machine_learning_model.svg/640px-Machine_learning_nutshell_--_Test_the_machine_learning_model.svg.png\" />\n",
    "</center>\n",
    "\n",
    "But first, I'll need to load the pre-generated feature values."
   ]
  },
  {
   "cell_type": "code",
   "execution_count": 18,
   "metadata": {
    "collapsed": false
   },
   "outputs": [
    {
     "data": {
      "text/plain": [
       "4862"
      ]
     },
     "execution_count": 18,
     "metadata": {},
     "output_type": "execute_result"
    }
   ],
   "source": [
    "testing_features_reverted_f = !bzcat ../datasets/demo/enwiki.features_reverted.testing.20k_2015.tsv.bz2 | cut -f2-\n",
    "testing_features_reverted = list(read_observations(testing_features_reverted_f, features, lambda v: v==\"True\"))\n",
    "len(testing_features_reverted)"
   ]
  },
  {
   "cell_type": "markdown",
   "metadata": {},
   "source": [
    "* [Accuracy](https://en.wikipedia.org/wiki/Accuracy_and_precision) -- The proportion of correct predictions\n",
    "* [Precision](https://en.wikipedia.org/wiki/Precision_and_recall) -- The proportion of correct positive predictions\n",
    "* [Recall](https://en.wikipedia.org/wiki/Precision_and_recall) -- The proportion of positive examples predicted as positive\n",
    "* Filter rate at 90% recall -- The proportion of observations that can be ignored while still catching 90% of \"reverted\" edits.  \n",
    "\n",
    "We'll use `revscoring` statistics to measure these against the test set."
   ]
  },
  {
   "cell_type": "code",
   "execution_count": 19,
   "metadata": {
    "collapsed": false
   },
   "outputs": [
    {
     "name": "stdout",
     "output_type": "stream",
     "text": [
      "ScikitLearnClassifier\n",
      " - type: GradientBoosting\n",
      " - params: balanced_sample_weight=true, presort=\"auto\", n_estimators=700, min_weight_fraction_leaf=0.0, max_leaf_nodes=null, learning_rate=0.01, balanced_sample=false, init=null, random_state=null, warm_start=false, min_samples_leaf=1, scale=true, subsample=1.0, min_samples_split=2, verbose=0, center=true, max_depth=5, max_features=\"log2\", loss=\"deviance\"\n",
      " - version: live demo!\n",
      " - trained: 2016-04-06T09:24:54.429304\n",
      "\n",
      "Accuracy: 0.813\n",
      "Precision: 0.201\n",
      "Recall: 0.812\n",
      "ROC-AUC: 0.87\n",
      "Filter rate @ 0.9 recall: threshold=0.238, filter_rate=0.651, recall=0.906\n"
     ]
    }
   ],
   "source": [
    "from revscoring.scorer_models.test_statistics import (accuracy, precision, recall, \n",
    "                                                      roc, filter_rate_at_recall)\n",
    "\n",
    "is_reverted.test(testing_features_reverted, \n",
    "                 test_statistics=[accuracy(), precision(), recall(), roc(), \n",
    "                                  filter_rate_at_recall(0.90)])\n",
    "\n",
    "print(is_reverted.format_info())"
   ]
  },
  {
   "cell_type": "markdown",
   "metadata": {},
   "source": [
    "# Bonus round!  Let's listen to Wikipedia's vandalism!\n",
    "\n",
    "So we don't have the most powerful damage detection classifier, but then again, we're only including 9 features.  Usually we run with ~60 features and get to much higher levels of fitness.  *but* this model is still useful and it should help us detect the most aggregious vandalism in Wikipedia.  In order to listen to Wikipedia, we'll need to connect to [RCStream](https://wikitech.wikimedia.org/wiki/RCStream) -- the same live feed that powers [listen to Wikipedia](http://listen.hatnote.com/)."
   ]
  },
  {
   "cell_type": "code",
   "execution_count": 20,
   "metadata": {
    "collapsed": false
   },
   "outputs": [
    {
     "name": "stderr",
     "output_type": "stream",
     "text": [
      "WARNING:socketIO_client:stream.wikimedia.org:80/socket.io/1: [packet error] unhandled namespace path ()\n"
     ]
    },
    {
     "name": "stdout",
     "output_type": "stream",
     "text": [
      "Good edit https://en.wikipedia.org/wiki/?diff=713913478 0.17\n",
      "Good edit https://en.wikipedia.org/wiki/?diff=713913481 0.24\n",
      "Good edit https://en.wikipedia.org/wiki/?diff=713913480 0.16\n",
      "Good edit https://en.wikipedia.org/wiki/?diff=713913483 0.15\n",
      "Good edit https://en.wikipedia.org/wiki/?diff=713913479 0.26\n",
      "Good edit https://en.wikipedia.org/wiki/?diff=713913482 0.12\n",
      "!!!Please review https://en.wikipedia.org/wiki/?diff=713913484 0.88\n",
      "Good edit https://en.wikipedia.org/wiki/?diff=713913485 0.17\n",
      "Good edit https://en.wikipedia.org/wiki/?diff=713913487 0.21\n",
      "Good edit https://en.wikipedia.org/wiki/?diff=713913486 0.09\n",
      "Good edit https://en.wikipedia.org/wiki/?diff=713913488 0.06\n",
      "!!!Please review https://en.wikipedia.org/wiki/?diff=713913489 0.55\n",
      "Good edit https://en.wikipedia.org/wiki/?diff=713913490 0.14\n",
      "!!!Please review https://en.wikipedia.org/wiki/?diff=713913491 0.6\n",
      "!!!Please review https://en.wikipedia.org/wiki/?diff=713913492 0.62\n",
      "Good edit https://en.wikipedia.org/wiki/?diff=713913493 0.09\n",
      "Good edit https://en.wikipedia.org/wiki/?diff=713913494 0.04\n",
      "Good edit https://en.wikipedia.org/wiki/?diff=713913495 0.19\n",
      "Good edit https://en.wikipedia.org/wiki/?diff=713913496 0.05\n",
      "!!!Please review https://en.wikipedia.org/wiki/?diff=713913498 0.54\n",
      "Good edit https://en.wikipedia.org/wiki/?diff=713913497 0.1\n",
      "!!!Please review https://en.wikipedia.org/wiki/?diff=713913501 0.72\n",
      "Good edit https://en.wikipedia.org/wiki/?diff=713913499 0.39\n",
      "Good edit https://en.wikipedia.org/wiki/?diff=713913500 0.08\n",
      "Good edit https://en.wikipedia.org/wiki/?diff=713913503 0.15\n",
      "Good edit https://en.wikipedia.org/wiki/?diff=713913502 0.13\n",
      "Good edit https://en.wikipedia.org/wiki/?diff=713913504 0.33\n",
      "Good edit https://en.wikipedia.org/wiki/?diff=713913505 0.1\n",
      "Good edit https://en.wikipedia.org/wiki/?diff=713913506 0.45\n",
      "Good edit https://en.wikipedia.org/wiki/?diff=713913508 0.18\n",
      "Good edit https://en.wikipedia.org/wiki/?diff=713913507 0.28\n",
      "!!!Please review https://en.wikipedia.org/wiki/?diff=713913509 0.52\n",
      "Good edit https://en.wikipedia.org/wiki/?diff=713913510 0.23\n",
      "Good edit https://en.wikipedia.org/wiki/?diff=713913511 0.07\n",
      "Good edit https://en.wikipedia.org/wiki/?diff=713913513 0.13\n",
      "Good edit https://en.wikipedia.org/wiki/?diff=713913515 0.15\n",
      "Good edit https://en.wikipedia.org/wiki/?diff=713913516 0.28\n",
      "!!!Please review https://en.wikipedia.org/wiki/?diff=713913517 0.72\n",
      "Good edit https://en.wikipedia.org/wiki/?diff=713913514 0.13\n",
      "Good edit https://en.wikipedia.org/wiki/?diff=713913518 0.07\n",
      "Good edit https://en.wikipedia.org/wiki/?diff=713913512 0.24\n",
      "Good edit https://en.wikipedia.org/wiki/?diff=713913519 0.29\n",
      "Good edit https://en.wikipedia.org/wiki/?diff=713913521 0.04\n",
      "Good edit https://en.wikipedia.org/wiki/?diff=713913522 0.2\n"
     ]
    },
    {
     "name": "stderr",
     "output_type": "stream",
     "text": [
      "WARNING:socketIO_client:stream.wikimedia.org:80/socket.io/1: [packet error] unhandled namespace path ()\n"
     ]
    },
    {
     "name": "stdout",
     "output_type": "stream",
     "text": [
      "Good edit https://en.wikipedia.org/wiki/?diff=713913523 0.11\n",
      "Good edit https://en.wikipedia.org/wiki/?diff=713913524 0.04\n",
      "Good edit https://en.wikipedia.org/wiki/?diff=713913520 0.23\n",
      "!!!Please review https://en.wikipedia.org/wiki/?diff=713913526 0.55\n",
      "Good edit https://en.wikipedia.org/wiki/?diff=713913525 0.33\n",
      "Good edit https://en.wikipedia.org/wiki/?diff=713913527 0.05\n",
      "!!!Please review https://en.wikipedia.org/wiki/?diff=713913528 0.52\n",
      "Good edit https://en.wikipedia.org/wiki/?diff=713913529 0.37\n",
      "Good edit https://en.wikipedia.org/wiki/?diff=713913530 0.19\n",
      "!!!Please review https://en.wikipedia.org/wiki/?diff=713913531 0.56\n",
      "Good edit https://en.wikipedia.org/wiki/?diff=713913532 0.24\n",
      "Good edit https://en.wikipedia.org/wiki/?diff=713913533 0.14\n",
      "Good edit https://en.wikipedia.org/wiki/?diff=713913535 0.17\n",
      "Good edit https://en.wikipedia.org/wiki/?diff=713913534 0.15\n",
      "Good edit https://en.wikipedia.org/wiki/?diff=713913537 0.21\n",
      "Good edit https://en.wikipedia.org/wiki/?diff=713913536 0.23\n",
      "Good edit https://en.wikipedia.org/wiki/?diff=713913538 0.36\n",
      "!!!Please review https://en.wikipedia.org/wiki/?diff=713913540 0.79\n",
      "Good edit https://en.wikipedia.org/wiki/?diff=713913539 0.31\n",
      "!!!Please review https://en.wikipedia.org/wiki/?diff=713913541 0.87\n",
      "Good edit https://en.wikipedia.org/wiki/?diff=713913543 0.13\n",
      "Good edit https://en.wikipedia.org/wiki/?diff=713913542 0.11\n",
      "!!!Please review https://en.wikipedia.org/wiki/?diff=713913544 0.51\n",
      "Good edit https://en.wikipedia.org/wiki/?diff=713913545 0.13\n",
      "Good edit https://en.wikipedia.org/wiki/?diff=713913546 0.22\n",
      "Good edit https://en.wikipedia.org/wiki/?diff=713913548 0.36\n",
      "!!!Please review https://en.wikipedia.org/wiki/?diff=713913547 0.57\n",
      "Good edit https://en.wikipedia.org/wiki/?diff=713913550 0.14\n",
      "Good edit https://en.wikipedia.org/wiki/?diff=713913549 0.13\n",
      "Good edit https://en.wikipedia.org/wiki/?diff=713913551 0.1\n",
      "Good edit https://en.wikipedia.org/wiki/?diff=713913553 0.23\n",
      "!!!Please review https://en.wikipedia.org/wiki/?diff=713913554 0.57\n",
      "Good edit https://en.wikipedia.org/wiki/?diff=713913555 0.42\n",
      "Good edit https://en.wikipedia.org/wiki/?diff=713913552 0.12\n",
      "Good edit https://en.wikipedia.org/wiki/?diff=713913556 0.34\n",
      "Good edit https://en.wikipedia.org/wiki/?diff=713913558 0.17\n",
      "Good edit https://en.wikipedia.org/wiki/?diff=713913559 0.07\n",
      "Good edit https://en.wikipedia.org/wiki/?diff=713913564 0.27\n",
      "Good edit https://en.wikipedia.org/wiki/?diff=713913567 0.05\n",
      "Good edit https://en.wikipedia.org/wiki/?diff=713913570 0.15\n",
      "Good edit https://en.wikipedia.org/wiki/?diff=713913571 0.17\n",
      "Good edit https://en.wikipedia.org/wiki/?diff=713913572 0.23\n",
      "Good edit https://en.wikipedia.org/wiki/?diff=713913574 0.14\n",
      "!!!Please review https://en.wikipedia.org/wiki/?diff=713913573 0.79\n",
      "Good edit https://en.wikipedia.org/wiki/?diff=713913576 0.13\n",
      "Good edit https://en.wikipedia.org/wiki/?diff=713913563 0.4\n",
      "Good edit https://en.wikipedia.org/wiki/?diff=713913575 0.25\n",
      "Good edit https://en.wikipedia.org/wiki/?diff=713913577 0.13\n",
      "!!!Please review https://en.wikipedia.org/wiki/?diff=713913578 0.61\n",
      "Good edit https://en.wikipedia.org/wiki/?diff=713913579 0.17\n",
      "Good edit https://en.wikipedia.org/wiki/?diff=713913580 0.14\n",
      "Good edit https://en.wikipedia.org/wiki/?diff=713913581 0.26\n",
      "Good edit https://en.wikipedia.org/wiki/?diff=713913582 0.43\n",
      "Good edit https://en.wikipedia.org/wiki/?diff=713913583 0.09\n"
     ]
    },
    {
     "name": "stderr",
     "output_type": "stream",
     "text": [
      "WARNING:socketIO_client:stream.wikimedia.org:80/socket.io/1: [packet error] unhandled namespace path ()\n"
     ]
    },
    {
     "name": "stdout",
     "output_type": "stream",
     "text": [
      "Good edit https://en.wikipedia.org/wiki/?diff=713913584 0.25\n",
      "Good edit https://en.wikipedia.org/wiki/?diff=713913586 0.31\n",
      "!!!Please review https://en.wikipedia.org/wiki/?diff=713913587 0.72\n",
      "Good edit https://en.wikipedia.org/wiki/?diff=713913585 0.04\n",
      "Good edit https://en.wikipedia.org/wiki/?diff=713913588 0.18\n",
      "Good edit https://en.wikipedia.org/wiki/?diff=713913589 0.2\n",
      "Good edit https://en.wikipedia.org/wiki/?diff=713913590 0.23\n",
      "Good edit https://en.wikipedia.org/wiki/?diff=713913591 0.31\n",
      "Good edit https://en.wikipedia.org/wiki/?diff=713913592 0.14\n",
      "Good edit https://en.wikipedia.org/wiki/?diff=713913593 0.36\n",
      "Good edit https://en.wikipedia.org/wiki/?diff=713913595 0.16\n",
      "Good edit https://en.wikipedia.org/wiki/?diff=713913594 0.17\n",
      "!!!Please review https://en.wikipedia.org/wiki/?diff=713913597 0.63\n",
      "!!!Please review https://en.wikipedia.org/wiki/?diff=713913598 0.7\n",
      "Good edit https://en.wikipedia.org/wiki/?diff=713913599 0.13\n",
      "!!!Please review https://en.wikipedia.org/wiki/?diff=713913600 0.53\n",
      "Good edit https://en.wikipedia.org/wiki/?diff=713913601 0.02\n",
      "!!!Please review https://en.wikipedia.org/wiki/?diff=713913602 0.87\n",
      "Good edit https://en.wikipedia.org/wiki/?diff=713913603 0.14\n",
      "Good edit https://en.wikipedia.org/wiki/?diff=713913605 0.04\n",
      "Good edit https://en.wikipedia.org/wiki/?diff=713913604 0.19\n",
      "Good edit https://en.wikipedia.org/wiki/?diff=713913606 0.23\n",
      "Good edit https://en.wikipedia.org/wiki/?diff=713913608 0.04\n",
      "Good edit https://en.wikipedia.org/wiki/?diff=713913609 0.14\n",
      "!!!Please review https://en.wikipedia.org/wiki/?diff=713913610 0.57\n",
      "Good edit https://en.wikipedia.org/wiki/?diff=713913611 0.5\n",
      "Good edit https://en.wikipedia.org/wiki/?diff=713913612 0.23\n",
      "Good edit https://en.wikipedia.org/wiki/?diff=713913607 0.12\n",
      "!!!Please review https://en.wikipedia.org/wiki/?diff=713913614 0.55\n",
      "Good edit https://en.wikipedia.org/wiki/?diff=713913613 0.09\n",
      "Good edit https://en.wikipedia.org/wiki/?diff=713913616 0.06\n",
      "!!!Please review https://en.wikipedia.org/wiki/?diff=713913617 0.78\n",
      "!!!Please review https://en.wikipedia.org/wiki/?diff=713913615 0.75\n",
      "Good edit https://en.wikipedia.org/wiki/?diff=713913619 0.39\n",
      "Good edit https://en.wikipedia.org/wiki/?diff=713913620 0.04\n",
      "Good edit https://en.wikipedia.org/wiki/?diff=713913618 0.34\n",
      "Good edit https://en.wikipedia.org/wiki/?diff=713913622 0.04\n",
      "Good edit https://en.wikipedia.org/wiki/?diff=713913623 0.25\n",
      "!!!Please review https://en.wikipedia.org/wiki/?diff=713913621 0.6\n",
      "Good edit https://en.wikipedia.org/wiki/?diff=713913624 0.14\n",
      "Good edit https://en.wikipedia.org/wiki/?diff=713913625 0.26\n",
      "Good edit https://en.wikipedia.org/wiki/?diff=713913626 0.4\n",
      "Good edit https://en.wikipedia.org/wiki/?diff=713913627 0.31\n",
      "Good edit https://en.wikipedia.org/wiki/?diff=713913629 0.38\n"
     ]
    },
    {
     "name": "stderr",
     "output_type": "stream",
     "text": [
      "WARNING:socketIO_client:stream.wikimedia.org:80/socket.io/1: [packet error] unhandled namespace path ()\n"
     ]
    },
    {
     "name": "stdout",
     "output_type": "stream",
     "text": [
      "Good edit https://en.wikipedia.org/wiki/?diff=713913628 0.14\n",
      "Good edit https://en.wikipedia.org/wiki/?diff=713913630 0.06\n",
      "!!!Please review https://en.wikipedia.org/wiki/?diff=713913631 0.76\n",
      "Good edit https://en.wikipedia.org/wiki/?diff=713913632 0.23\n",
      "Good edit https://en.wikipedia.org/wiki/?diff=713913634 0.03\n",
      "Good edit https://en.wikipedia.org/wiki/?diff=713913636 0.12\n",
      "Good edit https://en.wikipedia.org/wiki/?diff=713913635 0.16\n",
      "Good edit https://en.wikipedia.org/wiki/?diff=713913633 0.16\n",
      "Good edit https://en.wikipedia.org/wiki/?diff=713913639 0.09\n",
      "!!!Please review https://en.wikipedia.org/wiki/?diff=713913640 0.7\n",
      "Good edit https://en.wikipedia.org/wiki/?diff=713913638 0.14\n",
      "Good edit https://en.wikipedia.org/wiki/?diff=713913637 0.13\n",
      "Good edit https://en.wikipedia.org/wiki/?diff=713913641 0.2\n",
      "Good edit https://en.wikipedia.org/wiki/?diff=713913642 0.09\n",
      "!!!Please review https://en.wikipedia.org/wiki/?diff=713913644 0.59\n",
      "Good edit https://en.wikipedia.org/wiki/?diff=713913643 0.1\n",
      "Good edit https://en.wikipedia.org/wiki/?diff=713913645 0.12\n",
      "Good edit https://en.wikipedia.org/wiki/?diff=713913648 0.11\n"
     ]
    }
   ],
   "source": [
    "import socketIO_client\n",
    "\n",
    "class WikiNamespace(socketIO_client.BaseNamespace):\n",
    "    def on_change(self, change):\n",
    "        if change['type'] not in ('new', 'edit'):\n",
    "            return\n",
    "        \n",
    "        rev_id = change['revision']['new']\n",
    "        feature_values = list(api_extractor.extract(rev_id, features))\n",
    "        score = is_reverted.score(feature_values)\n",
    "        if score['prediction']:\n",
    "            print(\"!!!Please review\", \"https://en.wikipedia.org/wiki/?diff=\" + str(rev_id), \n",
    "                  round(score['probability'][True], 2), flush=True)\n",
    "        else:\n",
    "            print(\"Good edit\", \"https://en.wikipedia.org/wiki/?diff=\" + str(rev_id),\n",
    "                  round(score['probability'][True], 2), flush=True)\n",
    "\n",
    "    def on_connect(self):\n",
    "        self.emit('subscribe', 'en.wikipedia.org')\n",
    "\n",
    "\n",
    "socketIO = socketIO_client.SocketIO('stream.wikimedia.org', 80)\n",
    "socketIO.define(WikiNamespace, '/rc')\n",
    "\n",
    "socketIO.wait(120)"
   ]
  },
  {
   "cell_type": "code",
   "execution_count": null,
   "metadata": {
    "collapsed": true
   },
   "outputs": [],
   "source": []
  }
 ],
 "metadata": {
  "kernelspec": {
   "display_name": "Python 3",
   "language": "python",
   "name": "python3"
  },
  "language_info": {
   "codemirror_mode": {
    "name": "ipython",
    "version": 3
   },
   "file_extension": ".py",
   "mimetype": "text/x-python",
   "name": "python",
   "nbconvert_exporter": "python",
   "pygments_lexer": "ipython3",
   "version": "3.4.3"
  }
 },
 "nbformat": 4,
 "nbformat_minor": 0
}
