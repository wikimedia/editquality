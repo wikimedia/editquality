{
 "cells": [
  {
   "cell_type": "markdown",
   "metadata": {},
   "source": [
    "# Score an edit!\n",
    "In this notebook, we'll look at the the facilities that revscoring gives you for loading in a model and scoring some edits with it.  "
   ]
  },
  {
   "cell_type": "markdown",
   "metadata": {},
   "source": [
    "## Step 1: Load the scorer model\n",
    "In this step, we'll load a scorer model file from the disk."
   ]
  },
  {
   "cell_type": "code",
   "execution_count": 1,
   "metadata": {
    "collapsed": false
   },
   "outputs": [
    {
     "name": "stdout",
     "output_type": "stream",
     "text": [
      "ScikitLearnClassifier\n",
      " - type: GradientBoosting\n",
      " - params: balanced_sample_weight=true, random_state=null, loss=\"deviance\", center=true, max_leaf_nodes=null, min_samples_split=2, min_weight_fraction_leaf=0.0, subsample=1.0, learning_rate=0.01, presort=\"auto\", verbose=0, init=null, n_estimators=700, scale=true, balanced_sample=false, max_depth=7, max_features=\"log2\", min_samples_leaf=1, warm_start=false\n",
      " - version: 0.3.0\n",
      " - trained: 2016-09-27T17:35:33.358346\n",
      "\n",
      "Table:\n",
      "\t         ~False    ~True\n",
      "\t-----  --------  -------\n",
      "\tFalse     17177     1690\n",
      "\tTrue        208      458\n",
      "\n",
      "Accuracy: 0.903\n",
      "Precision:\n",
      "\t-----  -----\n",
      "\tFalse  0.988\n",
      "\tTrue   0.214\n",
      "\t-----  -----\n",
      "\n",
      "Recall:\n",
      "\t-----  -----\n",
      "\tFalse  0.91\n",
      "\tTrue   0.692\n",
      "\t-----  -----\n",
      "\n",
      "PR-AUC:\n",
      "\t-----  -----\n",
      "\tFalse  0.993\n",
      "\tTrue   0.382\n",
      "\t-----  -----\n",
      "\n",
      "ROC-AUC:\n",
      "\t-----  -----\n",
      "\tFalse  0.92\n",
      "\tTrue   0.921\n",
      "\t-----  -----\n",
      "\n",
      "Recall @ 0.1 false-positive rate:\n",
      "\tlabel      threshold    recall    fpr\n",
      "\t-------  -----------  --------  -----\n",
      "\tFalse          0.032     1      0.034\n",
      "\tTrue           0.952     0.078  0.018\n",
      "\n",
      "Filter rate @ 0.9 recall:\n",
      "\tlabel      threshold    filter_rate    recall\n",
      "\t-------  -----------  -------------  --------\n",
      "\tFalse          0.536          0.121     0.9\n",
      "\tTrue           0.169          0.756     0.904\n",
      "\n",
      "Filter rate @ 0.75 recall:\n",
      "\tlabel      threshold    filter_rate    recall\n",
      "\t-------  -----------  -------------  --------\n",
      "\tFalse          0.888          0.273     0.75\n",
      "\tTrue           0.421          0.865     0.755\n",
      "\n"
     ]
    }
   ],
   "source": [
    "from revscoring import ScorerModel\n",
    "sm = ScorerModel.load(open(\"../models/enwiki.damaging.gradient_boosting.model\"))\n",
    "print(sm.format_info())\n"
   ]
  },
  {
   "cell_type": "markdown",
   "metadata": {},
   "source": [
    "## Step 2: Prepare an extractor\n",
    "We're using a model that was trained on English Wikipedia.  We'll build an extractor to pull features from English Wikipedia. "
   ]
  },
  {
   "cell_type": "code",
   "execution_count": 2,
   "metadata": {
    "collapsed": true
   },
   "outputs": [],
   "source": [
    "import mwapi\n",
    "from revscoring.extractors import api\n",
    "\n",
    "extractor = api.Extractor(mwapi.Session(\"https://en.wikipedia.org\", user_agent=\"Score edit demo in editquality\"))"
   ]
  },
  {
   "cell_type": "markdown",
   "metadata": {},
   "source": [
    "## Step 3: Extract features and score an edit\n",
    "Now, we'll use the extractor to extract features for a revision ID and then ask the scorer model to generate a prediction based on those features."
   ]
  },
  {
   "cell_type": "code",
   "execution_count": 3,
   "metadata": {
    "collapsed": false
   },
   "outputs": [
    {
     "data": {
      "text/plain": [
       "[(<feature.revision.page.is_articleish>, True),\n",
       " (<feature.revision.page.is_mainspace>, True),\n",
       " (<feature.revision.page.is_draftspace>, False),\n",
       " (<feature.log((wikitext.revision.parent.chars + 1))>, 10.618934240590841),\n",
       " (<feature.log((len(<datasource.tokenized(datasource.revision.parent.text)>) + 1))>,\n",
       "  9.45234493093131),\n",
       " (<feature.log((len(<datasource.wikitext.revision.parent.words>) + 1))>,\n",
       "  8.372860820526318),\n",
       " (<feature.log((len(<datasource.wikitext.revision.parent.uppercase_words>) + 1))>,\n",
       "  5.976350909297934),\n",
       " (<feature.log((wikitext.revision.parent.headings + 1))>, 3.091042453358316),\n",
       " (<feature.log((wikitext.revision.parent.wikilinks + 1))>, 5.846438775057725),\n",
       " (<feature.log((wikitext.revision.parent.external_links + 1))>,\n",
       "  4.442651256490317)]"
      ]
     },
     "execution_count": 3,
     "metadata": {},
     "output_type": "execute_result"
    }
   ],
   "source": [
    "feature_values = list(extractor.extract(71076450, sm.features))\n",
    "list(zip(sm.features, feature_values))[:10]"
   ]
  },
  {
   "cell_type": "code",
   "execution_count": 4,
   "metadata": {
    "collapsed": false
   },
   "outputs": [
    {
     "data": {
      "text/plain": [
       "{'prediction': True,\n",
       " 'probability': {False: 0.23860839638483888, True: 0.7613916036151611}}"
      ]
     },
     "execution_count": 4,
     "metadata": {},
     "output_type": "execute_result"
    }
   ],
   "source": [
    "sm.score(feature_values)"
   ]
  },
  {
   "cell_type": "code",
   "execution_count": null,
   "metadata": {
    "collapsed": true
   },
   "outputs": [],
   "source": []
  }
 ],
 "metadata": {
  "kernelspec": {
   "display_name": "Python 3",
   "language": "python",
   "name": "python3"
  },
  "language_info": {
   "codemirror_mode": {
    "name": "ipython",
    "version": 3
   },
   "file_extension": ".py",
   "mimetype": "text/x-python",
   "name": "python",
   "nbconvert_exporter": "python",
   "pygments_lexer": "ipython3",
   "version": "3.5.1+"
  }
 },
 "nbformat": 4,
 "nbformat_minor": 0
}
